{
 "cells": [
  {
   "cell_type": "code",
   "execution_count": 2,
   "id": "44738bb4-2246-4c65-b015-34997a00aeff",
   "metadata": {},
   "outputs": [],
   "source": [
    "%load_ext sql"
   ]
  },
  {
   "cell_type": "code",
   "execution_count": 3,
   "id": "4533ba65-e100-4350-8012-8747d679fa63",
   "metadata": {},
   "outputs": [],
   "source": [
    "%config SqlMagic.displaylimit = 20"
   ]
  },
  {
   "cell_type": "code",
   "execution_count": 6,
   "id": "6c03ff83-fd56-43c0-b2e9-0c7568fcad25",
   "metadata": {},
   "outputs": [
    {
     "data": {
      "text/html": [
       "<span style=\"None\">Connecting to &#x27;sqlite:///library.db&#x27;</span>"
      ],
      "text/plain": [
       "Connecting to 'sqlite:///library.db'"
      ]
     },
     "metadata": {},
     "output_type": "display_data"
    }
   ],
   "source": [
    "%%sql \n",
    "sqlite:///library.db"
   ]
  },
  {
   "cell_type": "code",
   "execution_count": 8,
   "id": "80c66c79-29d1-4e44-903b-1c1ab3413e50",
   "metadata": {},
   "outputs": [
    {
     "data": {
      "text/html": [
       "<span style=\"None\">Running query in &#x27;sqlite:///library.db&#x27;</span>"
      ],
      "text/plain": [
       "Running query in 'sqlite:///library.db'"
      ]
     },
     "metadata": {},
     "output_type": "display_data"
    },
    {
     "data": {
      "text/html": [
       "<table>\n",
       "    <thead>\n",
       "        <tr>\n",
       "        </tr>\n",
       "    </thead>\n",
       "    <tbody>\n",
       "    </tbody>\n",
       "</table>"
      ],
      "text/plain": [
       "++\n",
       "||\n",
       "++\n",
       "++"
      ]
     },
     "execution_count": 8,
     "metadata": {},
     "output_type": "execute_result"
    }
   ],
   "source": [
    "%%sql\n",
    "CREATE TABLE Member (\n",
    "    memberId INTEGER PRIMARY KEY,\n",
    "    firstName VARCHAR(50) NOT NULL,\n",
    "    lastName VARCHAR(50) NOT NULL,\n",
    "    dateOfBirth DATE,\n",
    "    phoneNumber VARCHAR(20)\n",
    ");"
   ]
  },
  {
   "cell_type": "code",
   "execution_count": 10,
   "id": "ccd0e3ec-1922-4d8d-8907-9fd17a87cd7c",
   "metadata": {},
   "outputs": [
    {
     "data": {
      "text/html": [
       "<span style=\"None\">Running query in &#x27;sqlite:///library.db&#x27;</span>"
      ],
      "text/plain": [
       "Running query in 'sqlite:///library.db'"
      ]
     },
     "metadata": {},
     "output_type": "display_data"
    },
    {
     "data": {
      "text/html": [
       "<table>\n",
       "    <thead>\n",
       "        <tr>\n",
       "        </tr>\n",
       "    </thead>\n",
       "    <tbody>\n",
       "    </tbody>\n",
       "</table>"
      ],
      "text/plain": [
       "++\n",
       "||\n",
       "++\n",
       "++"
      ]
     },
     "execution_count": 10,
     "metadata": {},
     "output_type": "execute_result"
    }
   ],
   "source": [
    "%%sql\n",
    "CREATE TABLE Librarian (\n",
    "    librarianId INTEGER PRIMARY KEY,\n",
    "    firstName VARCHAR(100) NOT NULL,\n",
    "    lastName VARCHAR(100) NOT NULL\n",
    ");"
   ]
  },
  {
   "cell_type": "code",
   "execution_count": 12,
   "id": "d9b005cf-27ce-4527-8193-93bd83f99d9e",
   "metadata": {},
   "outputs": [
    {
     "data": {
      "text/html": [
       "<span style=\"None\">Running query in &#x27;sqlite:///library.db&#x27;</span>"
      ],
      "text/plain": [
       "Running query in 'sqlite:///library.db'"
      ]
     },
     "metadata": {},
     "output_type": "display_data"
    },
    {
     "data": {
      "text/html": [
       "<table>\n",
       "    <thead>\n",
       "        <tr>\n",
       "        </tr>\n",
       "    </thead>\n",
       "    <tbody>\n",
       "    </tbody>\n",
       "</table>"
      ],
      "text/plain": [
       "++\n",
       "||\n",
       "++\n",
       "++"
      ]
     },
     "execution_count": 12,
     "metadata": {},
     "output_type": "execute_result"
    }
   ],
   "source": [
    "%%sql\n",
    "CREATE TABLE Item (\n",
    "    itemId INTEGER PRIMARY KEY,\n",
    "    title VARCHAR(200) NOT NULL,\n",
    "    author VARCHAR(100),\n",
    "    format VARCHAR(50),\n",
    "    publishDate DATE,\n",
    "    publisher VARCHAR(100)\n",
    ");"
   ]
  },
  {
   "cell_type": "code",
   "execution_count": 14,
   "id": "7c396442-0cd7-479c-950c-fc8aa661f42a",
   "metadata": {},
   "outputs": [
    {
     "data": {
      "text/html": [
       "<span style=\"None\">Running query in &#x27;sqlite:///library.db&#x27;</span>"
      ],
      "text/plain": [
       "Running query in 'sqlite:///library.db'"
      ]
     },
     "metadata": {},
     "output_type": "display_data"
    },
    {
     "data": {
      "text/html": [
       "<table>\n",
       "    <thead>\n",
       "        <tr>\n",
       "        </tr>\n",
       "    </thead>\n",
       "    <tbody>\n",
       "    </tbody>\n",
       "</table>"
      ],
      "text/plain": [
       "++\n",
       "||\n",
       "++\n",
       "++"
      ]
     },
     "execution_count": 14,
     "metadata": {},
     "output_type": "execute_result"
    }
   ],
   "source": [
    "%%sql\n",
    "CREATE TABLE ItemInstance (\n",
    "    instanceId INTEGER PRIMARY KEY,\n",
    "    itemId INTEGER NOT NULL,\n",
    "    currentCheckoutId INTEGER, -- nullable, because the item may not be currently checked out\n",
    "    FOREIGN KEY (itemId) REFERENCES Item(itemId),\n",
    "    FOREIGN KEY (currentCheckoutId) REFERENCES CheckoutRecord(checkoutId)\n",
    ");"
   ]
  },
  {
   "cell_type": "code",
   "execution_count": 16,
   "id": "db75b196-6181-4eba-86c5-b38c4b976000",
   "metadata": {},
   "outputs": [
    {
     "data": {
      "text/html": [
       "<span style=\"None\">Running query in &#x27;sqlite:///library.db&#x27;</span>"
      ],
      "text/plain": [
       "Running query in 'sqlite:///library.db'"
      ]
     },
     "metadata": {},
     "output_type": "display_data"
    },
    {
     "data": {
      "text/html": [
       "<table>\n",
       "    <thead>\n",
       "        <tr>\n",
       "        </tr>\n",
       "    </thead>\n",
       "    <tbody>\n",
       "    </tbody>\n",
       "</table>"
      ],
      "text/plain": [
       "++\n",
       "||\n",
       "++\n",
       "++"
      ]
     },
     "execution_count": 16,
     "metadata": {},
     "output_type": "execute_result"
    }
   ],
   "source": [
    "%%sql\n",
    "CREATE TABLE CheckoutRecord (\n",
    "    checkoutId INTEGER PRIMARY KEY,\n",
    "    memberId INTEGER NOT NULL,\n",
    "    itemId INTEGER NOT NULL,\n",
    "    instanceId INTEGER NOT NULL,\n",
    "    librarianId INTEGER NOT NULL,\n",
    "    checkoutDate DATE NOT NULL,\n",
    "    dueDate DATE NOT NULL,\n",
    "    returnDate DATE,\n",
    "\n",
    "    FOREIGN KEY (memberId) REFERENCES Member(memberId),\n",
    "    FOREIGN KEY (itemId) REFERENCES Item(itemId),\n",
    "    FOREIGN KEY (instanceId) REFERENCES ItemInstance(instanceId),\n",
    "    FOREIGN KEY (librarianId) REFERENCES Librarian(librarianId)\n",
    ");"
   ]
  },
  {
   "cell_type": "code",
   "execution_count": 18,
   "id": "be54bf7f-1291-4c0e-9a08-8c1809fac5b1",
   "metadata": {},
   "outputs": [
    {
     "data": {
      "text/html": [
       "<span style=\"None\">Running query in &#x27;sqlite:///library.db&#x27;</span>"
      ],
      "text/plain": [
       "Running query in 'sqlite:///library.db'"
      ]
     },
     "metadata": {},
     "output_type": "display_data"
    },
    {
     "data": {
      "text/html": [
       "<table>\n",
       "    <thead>\n",
       "        <tr>\n",
       "        </tr>\n",
       "    </thead>\n",
       "    <tbody>\n",
       "    </tbody>\n",
       "</table>"
      ],
      "text/plain": [
       "++\n",
       "||\n",
       "++\n",
       "++"
      ]
     },
     "execution_count": 18,
     "metadata": {},
     "output_type": "execute_result"
    }
   ],
   "source": [
    "%%sql\n",
    "CREATE TABLE OverdueFine (\n",
    "    fineId INTEGER PRIMARY KEY,\n",
    "    checkoutId INTEGER NOT NULL,\n",
    "    fineTotal DECIMAL(5,2) NOT NULL,\n",
    "    amountPaid DECIMAL(5,2) NOT NULL DEFAULT 0.00,\n",
    "    dateIssued DATE NOT NULL,\n",
    "\n",
    "    FOREIGN KEY (checkoutId) REFERENCES CheckoutRecord(checkoutId)\n",
    ");"
   ]
  },
  {
   "cell_type": "code",
   "execution_count": 20,
   "id": "1f8de115-d2d5-436b-bc16-8b3ce58c5fea",
   "metadata": {},
   "outputs": [
    {
     "data": {
      "text/html": [
       "<span style=\"None\">Running query in &#x27;sqlite:///library.db&#x27;</span>"
      ],
      "text/plain": [
       "Running query in 'sqlite:///library.db'"
      ]
     },
     "metadata": {},
     "output_type": "display_data"
    },
    {
     "data": {
      "text/html": [
       "<table>\n",
       "    <thead>\n",
       "        <tr>\n",
       "        </tr>\n",
       "    </thead>\n",
       "    <tbody>\n",
       "    </tbody>\n",
       "</table>"
      ],
      "text/plain": [
       "++\n",
       "||\n",
       "++\n",
       "++"
      ]
     },
     "execution_count": 20,
     "metadata": {},
     "output_type": "execute_result"
    }
   ],
   "source": [
    "%%sql\n",
    "CREATE TABLE SocialRoom (\n",
    "    roomId INTEGER PRIMARY KEY,\n",
    "    name VARCHAR(100) NOT NULL,\n",
    "    capacity INTEGER NOT NULL CHECK (capacity > 0)\n",
    ");"
   ]
  },
  {
   "cell_type": "code",
   "execution_count": 22,
   "id": "46d98a97-e830-4e56-b6fb-963559a987ea",
   "metadata": {},
   "outputs": [
    {
     "data": {
      "text/html": [
       "<span style=\"None\">Running query in &#x27;sqlite:///library.db&#x27;</span>"
      ],
      "text/plain": [
       "Running query in 'sqlite:///library.db'"
      ]
     },
     "metadata": {},
     "output_type": "display_data"
    },
    {
     "data": {
      "text/html": [
       "<table>\n",
       "    <thead>\n",
       "        <tr>\n",
       "        </tr>\n",
       "    </thead>\n",
       "    <tbody>\n",
       "    </tbody>\n",
       "</table>"
      ],
      "text/plain": [
       "++\n",
       "||\n",
       "++\n",
       "++"
      ]
     },
     "execution_count": 22,
     "metadata": {},
     "output_type": "execute_result"
    }
   ],
   "source": [
    "%%sql\n",
    "CREATE TABLE Event (\n",
    "    eventId INTEGER PRIMARY KEY,\n",
    "    title VARCHAR(200) NOT NULL,\n",
    "    description TEXT,\n",
    "    type VARCHAR(50),\n",
    "    dateTimeStart TIMESTAMP NOT NULL,\n",
    "    dateTimeEnd TIMESTAMP NOT NULL,\n",
    "    roomId INTEGER NOT NULL,\n",
    "\n",
    "    FOREIGN KEY (roomId) REFERENCES SocialRoom(roomId)\n",
    ");\n"
   ]
  },
  {
   "cell_type": "code",
   "execution_count": 24,
   "id": "7ea33b53-d28d-4419-b31d-f219142c242e",
   "metadata": {},
   "outputs": [
    {
     "data": {
      "text/html": [
       "<span style=\"None\">Running query in &#x27;sqlite:///library.db&#x27;</span>"
      ],
      "text/plain": [
       "Running query in 'sqlite:///library.db'"
      ]
     },
     "metadata": {},
     "output_type": "display_data"
    },
    {
     "data": {
      "text/html": [
       "<table>\n",
       "    <thead>\n",
       "        <tr>\n",
       "        </tr>\n",
       "    </thead>\n",
       "    <tbody>\n",
       "    </tbody>\n",
       "</table>"
      ],
      "text/plain": [
       "++\n",
       "||\n",
       "++\n",
       "++"
      ]
     },
     "execution_count": 24,
     "metadata": {},
     "output_type": "execute_result"
    }
   ],
   "source": [
    "%%sql\n",
    "CREATE TABLE Audience (\n",
    "    audienceType VARCHAR(50) PRIMARY KEY\n",
    ");"
   ]
  },
  {
   "cell_type": "code",
   "execution_count": 26,
   "id": "46793ce2-3793-4ad3-be0c-2a52ae280d64",
   "metadata": {},
   "outputs": [
    {
     "data": {
      "text/html": [
       "<span style=\"None\">Running query in &#x27;sqlite:///library.db&#x27;</span>"
      ],
      "text/plain": [
       "Running query in 'sqlite:///library.db'"
      ]
     },
     "metadata": {},
     "output_type": "display_data"
    },
    {
     "data": {
      "text/html": [
       "<table>\n",
       "    <thead>\n",
       "        <tr>\n",
       "        </tr>\n",
       "    </thead>\n",
       "    <tbody>\n",
       "    </tbody>\n",
       "</table>"
      ],
      "text/plain": [
       "++\n",
       "||\n",
       "++\n",
       "++"
      ]
     },
     "execution_count": 26,
     "metadata": {},
     "output_type": "execute_result"
    }
   ],
   "source": [
    "%%sql\n",
    "CREATE TABLE EventRecommendation (\n",
    "    eventId INTEGER NOT NULL,\n",
    "    audienceType VARCHAR(50) NOT NULL,\n",
    "    PRIMARY KEY (eventId, audienceType),\n",
    "\n",
    "    FOREIGN KEY (eventId) REFERENCES Event(eventId),\n",
    "    FOREIGN KEY (audienceType) REFERENCES Audience(audienceType)\n",
    ");"
   ]
  },
  {
   "cell_type": "code",
   "execution_count": 28,
   "id": "7faa8d24-930c-4bd1-beb1-e529ce8727a1",
   "metadata": {},
   "outputs": [
    {
     "data": {
      "text/html": [
       "<span style=\"None\">Running query in &#x27;sqlite:///library.db&#x27;</span>"
      ],
      "text/plain": [
       "Running query in 'sqlite:///library.db'"
      ]
     },
     "metadata": {},
     "output_type": "display_data"
    },
    {
     "data": {
      "text/html": [
       "<table>\n",
       "    <thead>\n",
       "        <tr>\n",
       "        </tr>\n",
       "    </thead>\n",
       "    <tbody>\n",
       "    </tbody>\n",
       "</table>"
      ],
      "text/plain": [
       "++\n",
       "||\n",
       "++\n",
       "++"
      ]
     },
     "execution_count": 28,
     "metadata": {},
     "output_type": "execute_result"
    }
   ],
   "source": [
    "%%sql\n",
    "CREATE TABLE MemberAudienceType (\n",
    "    memberId INTEGER NOT NULL,\n",
    "    audienceType VARCHAR(50) NOT NULL,\n",
    "    PRIMARY KEY (memberId, audienceType),\n",
    "\n",
    "    FOREIGN KEY (memberId) REFERENCES Member(memberId),\n",
    "    FOREIGN KEY (audienceType) REFERENCES Audience(audienceType)\n",
    ");"
   ]
  },
  {
   "cell_type": "code",
   "execution_count": 30,
   "id": "78913655-91bd-4e6f-addd-8abdaf0fd7da",
   "metadata": {},
   "outputs": [
    {
     "data": {
      "text/html": [
       "<span style=\"None\">Running query in &#x27;sqlite:///library.db&#x27;</span>"
      ],
      "text/plain": [
       "Running query in 'sqlite:///library.db'"
      ]
     },
     "metadata": {},
     "output_type": "display_data"
    },
    {
     "data": {
      "text/html": [
       "<table>\n",
       "    <thead>\n",
       "        <tr>\n",
       "        </tr>\n",
       "    </thead>\n",
       "    <tbody>\n",
       "    </tbody>\n",
       "</table>"
      ],
      "text/plain": [
       "++\n",
       "||\n",
       "++\n",
       "++"
      ]
     },
     "execution_count": 30,
     "metadata": {},
     "output_type": "execute_result"
    }
   ],
   "source": [
    "%%sql\n",
    "CREATE TABLE EventAttendance (\n",
    "    eventId INTEGER NOT NULL,\n",
    "    memberId INTEGER NOT NULL,\n",
    "    PRIMARY KEY (eventId, memberId),\n",
    "\n",
    "    FOREIGN KEY (eventId) REFERENCES Event(eventId),\n",
    "    FOREIGN KEY (memberId) REFERENCES Member(memberId)\n",
    ");"
   ]
  },
  {
   "cell_type": "code",
   "execution_count": 32,
   "id": "d6ea75da-c00e-4285-9c54-4163dd2c1307",
   "metadata": {},
   "outputs": [
    {
     "data": {
      "text/html": [
       "<span style=\"None\">Running query in &#x27;sqlite:///library.db&#x27;</span>"
      ],
      "text/plain": [
       "Running query in 'sqlite:///library.db'"
      ]
     },
     "metadata": {},
     "output_type": "display_data"
    },
    {
     "data": {
      "text/html": [
       "<table>\n",
       "    <thead>\n",
       "        <tr>\n",
       "            <th>name</th>\n",
       "        </tr>\n",
       "    </thead>\n",
       "    <tbody>\n",
       "        <tr>\n",
       "            <td>Member</td>\n",
       "        </tr>\n",
       "        <tr>\n",
       "            <td>Librarian</td>\n",
       "        </tr>\n",
       "        <tr>\n",
       "            <td>Item</td>\n",
       "        </tr>\n",
       "        <tr>\n",
       "            <td>ItemInstance</td>\n",
       "        </tr>\n",
       "        <tr>\n",
       "            <td>CheckoutRecord</td>\n",
       "        </tr>\n",
       "        <tr>\n",
       "            <td>OverdueFine</td>\n",
       "        </tr>\n",
       "        <tr>\n",
       "            <td>SocialRoom</td>\n",
       "        </tr>\n",
       "        <tr>\n",
       "            <td>Event</td>\n",
       "        </tr>\n",
       "        <tr>\n",
       "            <td>Audience</td>\n",
       "        </tr>\n",
       "        <tr>\n",
       "            <td>EventRecommendation</td>\n",
       "        </tr>\n",
       "        <tr>\n",
       "            <td>MemberAudienceType</td>\n",
       "        </tr>\n",
       "        <tr>\n",
       "            <td>EventAttendance</td>\n",
       "        </tr>\n",
       "    </tbody>\n",
       "</table>"
      ],
      "text/plain": [
       "+---------------------+\n",
       "|         name        |\n",
       "+---------------------+\n",
       "|        Member       |\n",
       "|      Librarian      |\n",
       "|         Item        |\n",
       "|     ItemInstance    |\n",
       "|    CheckoutRecord   |\n",
       "|     OverdueFine     |\n",
       "|      SocialRoom     |\n",
       "|        Event        |\n",
       "|       Audience      |\n",
       "| EventRecommendation |\n",
       "|  MemberAudienceType |\n",
       "|   EventAttendance   |\n",
       "+---------------------+"
      ]
     },
     "execution_count": 32,
     "metadata": {},
     "output_type": "execute_result"
    }
   ],
   "source": [
    "%%sql\n",
    "SELECT name FROM sqlite_master WHERE type='table';"
   ]
  },
  {
   "cell_type": "code",
   "execution_count": 34,
   "id": "88e2c645-9c7e-4775-8459-98f32fe949d0",
   "metadata": {},
   "outputs": [
    {
     "data": {
      "text/html": [
       "<span style=\"None\">Running query in &#x27;sqlite:///library.db&#x27;</span>"
      ],
      "text/plain": [
       "Running query in 'sqlite:///library.db'"
      ]
     },
     "metadata": {},
     "output_type": "display_data"
    },
    {
     "data": {
      "text/html": [
       "<span style=\"color: green\">15 rows affected.</span>"
      ],
      "text/plain": [
       "15 rows affected."
      ]
     },
     "metadata": {},
     "output_type": "display_data"
    },
    {
     "data": {
      "text/html": [
       "<table>\n",
       "    <thead>\n",
       "        <tr>\n",
       "        </tr>\n",
       "    </thead>\n",
       "    <tbody>\n",
       "    </tbody>\n",
       "</table>"
      ],
      "text/plain": [
       "++\n",
       "||\n",
       "++\n",
       "++"
      ]
     },
     "execution_count": 34,
     "metadata": {},
     "output_type": "execute_result"
    }
   ],
   "source": [
    "%%sql\n",
    "INSERT INTO Member (memberId, firstName, lastName, dateOfBirth, phoneNumber) VALUES\n",
    "(1, 'Alice', 'Johnson', '1990-04-12', '604-123-4567'),\n",
    "(2, 'Brian', 'Smith', '1985-06-23', '778-456-7890'),\n",
    "(3, 'Catherine', 'Lee', '1998-12-03', '604-987-6543'),\n",
    "(4, 'David', 'Chen', '2001-03-15', '778-111-2222'),\n",
    "(5, 'Eva', 'Martinez', '1975-07-20', '604-222-3333'),\n",
    "(6, 'Frank', 'Brown', '1988-09-14', '604-333-4444'),\n",
    "(7, 'Grace', 'Kim', '1995-02-28', '778-555-6666'),\n",
    "(8, 'Henry', 'Garcia', '2000-11-11', '604-777-8888'),\n",
    "(9, 'Isabelle', 'Clark', '1992-01-22', '778-999-0000'),\n",
    "(10, 'Jack', 'Davis', '1979-05-30', '604-555-1234'),\n",
    "(11, 'Karen', 'Miller', '1983-08-18', '604-444-5678'),\n",
    "(12, 'Luke', 'Wilson', '1997-10-10', '778-123-4567'),\n",
    "(13, 'Mia', 'Lopez', '1991-12-25', '604-321-4321'),\n",
    "(14, 'Noah', 'Hill', '1986-07-07', '778-432-1234'),\n",
    "(15, 'Olivia', 'Scott', '2002-03-03', '604-654-9876');"
   ]
  },
  {
   "cell_type": "code",
   "execution_count": 36,
   "id": "a0fd6773-fe29-4f50-af3c-6d76019885c8",
   "metadata": {},
   "outputs": [
    {
     "data": {
      "text/html": [
       "<span style=\"None\">Running query in &#x27;sqlite:///library.db&#x27;</span>"
      ],
      "text/plain": [
       "Running query in 'sqlite:///library.db'"
      ]
     },
     "metadata": {},
     "output_type": "display_data"
    },
    {
     "data": {
      "text/html": [
       "<span style=\"color: green\">15 rows affected.</span>"
      ],
      "text/plain": [
       "15 rows affected."
      ]
     },
     "metadata": {},
     "output_type": "display_data"
    },
    {
     "data": {
      "text/html": [
       "<table>\n",
       "    <thead>\n",
       "        <tr>\n",
       "        </tr>\n",
       "    </thead>\n",
       "    <tbody>\n",
       "    </tbody>\n",
       "</table>"
      ],
      "text/plain": [
       "++\n",
       "||\n",
       "++\n",
       "++"
      ]
     },
     "execution_count": 36,
     "metadata": {},
     "output_type": "execute_result"
    }
   ],
   "source": [
    "%%sql\n",
    "INSERT INTO Librarian (librarianId, firstName, lastName) VALUES\n",
    "(01, 'John', 'Roberts'),\n",
    "(02, 'Laura', 'Bennett'),\n",
    "(03, 'Emily', 'Adams'),\n",
    "(04, 'Michael', 'Stevens'),\n",
    "(05, 'Sarah', 'Hernandez'),\n",
    "(06, 'Daniel', 'Cooper'),\n",
    "(07, 'Jessica', 'Reed'),\n",
    "(08, 'Matthew', 'Carter'),\n",
    "(09, 'Ashley', 'Walker'),\n",
    "(10, 'Christopher', 'Evans'),\n",
    "(11, 'Samantha', 'Flores'),\n",
    "(12, 'Ryan', 'Mitchell'),\n",
    "(13, 'Olivia', 'Gonzalez'),\n",
    "(14, 'Brandon', 'Parker'),\n",
    "(15, 'Sophia', 'Hall');"
   ]
  },
  {
   "cell_type": "code",
   "execution_count": 38,
   "id": "4700164e-a7dc-480e-87ff-f36ecde013f1",
   "metadata": {},
   "outputs": [
    {
     "data": {
      "text/html": [
       "<span style=\"None\">Running query in &#x27;sqlite:///library.db&#x27;</span>"
      ],
      "text/plain": [
       "Running query in 'sqlite:///library.db'"
      ]
     },
     "metadata": {},
     "output_type": "display_data"
    },
    {
     "data": {
      "text/html": [
       "<span style=\"color: green\">15 rows affected.</span>"
      ],
      "text/plain": [
       "15 rows affected."
      ]
     },
     "metadata": {},
     "output_type": "display_data"
    },
    {
     "data": {
      "text/html": [
       "<table>\n",
       "    <thead>\n",
       "        <tr>\n",
       "        </tr>\n",
       "    </thead>\n",
       "    <tbody>\n",
       "    </tbody>\n",
       "</table>"
      ],
      "text/plain": [
       "++\n",
       "||\n",
       "++\n",
       "++"
      ]
     },
     "execution_count": 38,
     "metadata": {},
     "output_type": "execute_result"
    }
   ],
   "source": [
    "%%sql\n",
    "INSERT INTO Item (itemId, title, author, format, publishDate, publisher) VALUES\n",
    "(1, 'The Great Gatsby', 'F. Scott Fitzgerald', 'Book', '1925-04-10', 'Scribner'),\n",
    "(2, 'Inception', 'Christopher Nolan', 'DVD', '2010-07-16', 'Warner Bros'),\n",
    "(3, 'National Geographic - July Edition', NULL, 'Magazine', '2024-07-01', 'National Geographic'),\n",
    "(4, 'Python Programming', 'John Zelle', 'Book', '2017-01-01', 'Franklin & Beedle'),\n",
    "(5, 'Beethoven Symphony No.9', 'Ludwig van Beethoven', 'CD', '1824-05-07', 'Classical Records'),\n",
    "(6, 'To Kill a Mockingbird', 'Harper Lee', 'Book', '1960-07-11', 'J.B. Lippincott & Co.'),\n",
    "(7, 'The Lord of the Rings', 'J.R.R. Tolkien', 'Book', '1954-07-29', 'Allen & Unwin'),\n",
    "(8, '1984', 'George Orwell', 'Book', '1949-06-08', 'Secker & Warburg'),\n",
    "(9, 'The Matrix', 'Lana & Lilly Wachowski', 'DVD', '1999-03-31', 'Warner Bros'),\n",
    "(10, 'Interstellar', 'Christopher Nolan', 'DVD', '2014-11-07', 'Paramount Pictures'),\n",
    "(11, 'Dune', 'Frank Herbert', 'Book', '1965-08-01', 'Chilton Books'),\n",
    "(12, 'The Catcher in the Rye', 'J.D. Salinger', 'Book', '1951-07-16', 'Little, Brown and Company'),\n",
    "(13, 'Cosmos', 'Carl Sagan', 'Book', '1980-10-12', 'Random House'),\n",
    "(14, 'The Art of War', 'Sun Tzu', 'Book', '500 BC', 'Various'),\n",
    "(15, 'Shakespeare’s Sonnets', 'William Shakespeare', 'Book', '1609-05-20', 'Thomas Thorpe');"
   ]
  },
  {
   "cell_type": "code",
   "execution_count": 40,
   "id": "8fa980fa-416d-4f12-9831-ca89b5291ecc",
   "metadata": {},
   "outputs": [
    {
     "data": {
      "text/html": [
       "<span style=\"None\">Running query in &#x27;sqlite:///library.db&#x27;</span>"
      ],
      "text/plain": [
       "Running query in 'sqlite:///library.db'"
      ]
     },
     "metadata": {},
     "output_type": "display_data"
    },
    {
     "data": {
      "text/html": [
       "<span style=\"color: green\">15 rows affected.</span>"
      ],
      "text/plain": [
       "15 rows affected."
      ]
     },
     "metadata": {},
     "output_type": "display_data"
    },
    {
     "data": {
      "text/html": [
       "<table>\n",
       "    <thead>\n",
       "        <tr>\n",
       "        </tr>\n",
       "    </thead>\n",
       "    <tbody>\n",
       "    </tbody>\n",
       "</table>"
      ],
      "text/plain": [
       "++\n",
       "||\n",
       "++\n",
       "++"
      ]
     },
     "execution_count": 40,
     "metadata": {},
     "output_type": "execute_result"
    }
   ],
   "source": [
    "%%sql\n",
    "INSERT INTO ItemInstance (instanceId, itemId, currentCheckoutId) VALUES\n",
    "(1, 1, NULL), -- The Great Gatsby, available\n",
    "(2, 1, NULL), -- The Great Gatsby, second copy\n",
    "(3, 2, NULL), -- Inception, available\n",
    "(4, 3, NULL), -- National Geographic - July Edition, available\n",
    "(5, 4, NULL), -- Python Programming, available\n",
    "(6, 5, NULL), -- Beethoven Symphony No.9, available\n",
    "(7, 6, NULL), -- To Kill a Mockingbird, available\n",
    "(8, 7, NULL), -- The Lord of the Rings, available\n",
    "(9, 8, NULL), -- 1984, available\n",
    "(10, 9, NULL), -- The Matrix, available\n",
    "(11, 10, NULL), -- Interstellar, available\n",
    "(12, 11, NULL), -- Dune, available\n",
    "(13, 12, NULL), -- The Catcher in the Rye, available\n",
    "(14, 13, NULL), -- Cosmos, available\n",
    "(15, 14, NULL); -- The Art of War, available"
   ]
  },
  {
   "cell_type": "code",
   "execution_count": 42,
   "id": "398526e6-48b3-4939-9bc6-9db51092eeaf",
   "metadata": {},
   "outputs": [
    {
     "data": {
      "text/html": [
       "<span style=\"None\">Running query in &#x27;sqlite:///library.db&#x27;</span>"
      ],
      "text/plain": [
       "Running query in 'sqlite:///library.db'"
      ]
     },
     "metadata": {},
     "output_type": "display_data"
    },
    {
     "data": {
      "text/html": [
       "<span style=\"color: green\">15 rows affected.</span>"
      ],
      "text/plain": [
       "15 rows affected."
      ]
     },
     "metadata": {},
     "output_type": "display_data"
    },
    {
     "data": {
      "text/html": [
       "<table>\n",
       "    <thead>\n",
       "        <tr>\n",
       "        </tr>\n",
       "    </thead>\n",
       "    <tbody>\n",
       "    </tbody>\n",
       "</table>"
      ],
      "text/plain": [
       "++\n",
       "||\n",
       "++\n",
       "++"
      ]
     },
     "execution_count": 42,
     "metadata": {},
     "output_type": "execute_result"
    }
   ],
   "source": [
    "%%sql\n",
    "INSERT INTO SocialRoom (roomId, name, capacity) VALUES\n",
    "(1, 'Main Hall', 100),\n",
    "(2, 'Conference Room A', 20),\n",
    "(3, 'Children’s Room', 30),\n",
    "(4, 'Study Room 1', 6),\n",
    "(5, 'Study Room 2', 6),\n",
    "(6, 'Lecture Hall', 50),\n",
    "(7, 'Exhibition Space', 80),\n",
    "(8, 'Film Screening Room', 40),\n",
    "(9, 'Community Hall', 120),\n",
    "(10, 'Reading Lounge', 15),\n",
    "(11, 'Quiet Zone', 10),\n",
    "(12, 'Tech Lab', 25),\n",
    "(13, 'Teen Space', 35),\n",
    "(14, 'Outdoor Pavilion', 200),\n",
    "(15, 'Music Room', 15);"
   ]
  },
  {
   "cell_type": "code",
   "execution_count": 44,
   "id": "15f30813-bbdd-4339-8663-4f2bcd42550c",
   "metadata": {},
   "outputs": [
    {
     "data": {
      "text/html": [
       "<span style=\"None\">Running query in &#x27;sqlite:///library.db&#x27;</span>"
      ],
      "text/plain": [
       "Running query in 'sqlite:///library.db'"
      ]
     },
     "metadata": {},
     "output_type": "display_data"
    },
    {
     "data": {
      "text/html": [
       "<span style=\"color: green\">15 rows affected.</span>"
      ],
      "text/plain": [
       "15 rows affected."
      ]
     },
     "metadata": {},
     "output_type": "display_data"
    },
    {
     "data": {
      "text/html": [
       "<table>\n",
       "    <thead>\n",
       "        <tr>\n",
       "        </tr>\n",
       "    </thead>\n",
       "    <tbody>\n",
       "    </tbody>\n",
       "</table>"
      ],
      "text/plain": [
       "++\n",
       "||\n",
       "++\n",
       "++"
      ]
     },
     "execution_count": 44,
     "metadata": {},
     "output_type": "execute_result"
    }
   ],
   "source": [
    "%%sql\n",
    "INSERT INTO Audience (audienceType) VALUES\n",
    "('Adults'),\n",
    "('Teens'),\n",
    "('Children'),\n",
    "('General Public'),\n",
    "('Seniors'),\n",
    "('Students'),\n",
    "('Researchers'),\n",
    "('Writers'),\n",
    "('Book Enthusiasts'),\n",
    "('Film Lovers'),\n",
    "('Music Lovers'),\n",
    "('Science Enthusiasts'),\n",
    "('Tech Enthusiasts'),\n",
    "('History Buffs'),\n",
    "('Philosophy Lovers');"
   ]
  },
  {
   "cell_type": "code",
   "execution_count": 46,
   "id": "82289971-47e8-4f63-a255-5389f0d26b2c",
   "metadata": {},
   "outputs": [
    {
     "data": {
      "text/html": [
       "<span style=\"None\">Running query in &#x27;sqlite:///library.db&#x27;</span>"
      ],
      "text/plain": [
       "Running query in 'sqlite:///library.db'"
      ]
     },
     "metadata": {},
     "output_type": "display_data"
    },
    {
     "data": {
      "text/html": [
       "<span style=\"color: green\">15 rows affected.</span>"
      ],
      "text/plain": [
       "15 rows affected."
      ]
     },
     "metadata": {},
     "output_type": "display_data"
    },
    {
     "data": {
      "text/html": [
       "<table>\n",
       "    <thead>\n",
       "        <tr>\n",
       "        </tr>\n",
       "    </thead>\n",
       "    <tbody>\n",
       "    </tbody>\n",
       "</table>"
      ],
      "text/plain": [
       "++\n",
       "||\n",
       "++\n",
       "++"
      ]
     },
     "execution_count": 46,
     "metadata": {},
     "output_type": "execute_result"
    }
   ],
   "source": [
    "%%sql\n",
    "INSERT INTO Event (eventId, title, description, type, dateTimeStart, dateTimeEnd, roomId) VALUES\n",
    "(1, 'New Year Book Club Kickoff', 'First book club of the year.', 'Book Club', '2025-01-05 18:00', '2025-01-05 20:00', 2),\n",
    "(2, 'Classic Movie Night', 'Screening of \"Casablanca\".', 'Film Screening', '2025-01-10 19:00', '2025-01-10 21:00', 8),\n",
    "(3, 'Children’s Story Hour', 'Storytelling event for kids.', 'Storytelling', '2025-01-15 10:00', '2025-01-15 11:00', 3),\n",
    "(4, 'Introduction to AI', 'Talk on artificial intelligence.', 'Lecture', '2025-01-20 14:00', '2025-01-20 16:00', 12),\n",
    "(5, 'Poetry Night', 'Live poetry readings.', 'Reading', '2025-01-25 19:30', '2025-01-25 21:00', 7),\n",
    "(6, 'WWII History Discussion', 'Lecture by a historian.', 'Lecture', '2025-02-01 17:00', '2025-02-01 19:00', 6),\n",
    "(7, 'Space Exploration', 'NASA expert talk.', 'Lecture', '2025-02-10 15:00', '2025-02-10 17:00', 6),\n",
    "(8, 'Board Games for Teens', 'Game night for teens.', 'Gaming', '2025-02-15 18:00', '2025-02-15 21:00', 13),\n",
    "(9, 'Creative Writing Workshop', 'Session for aspiring writers.', 'Workshop', '2025-02-20 16:00', '2025-02-20 18:00', 10),\n",
    "(10, 'Jazz Appreciation Night', 'Live jazz performance.', 'Music', '2025-02-28 19:00', '2025-02-28 21:00', 15),\n",
    "(11, 'Women in STEM Panel', 'Panel discussion with female scientists.', 'Panel Discussion', '2025-03-02 14:00', '2025-03-02 16:00', 12),\n",
    "(12, 'Outdoor Film Screening', 'Outdoor showing of a classic movie.', 'Film Screening', '2025-03-05 19:00', '2025-03-05 21:30', 14),\n",
    "(13, 'Local Author Meet & Greet', 'Q&A session with a published author.', 'Meet & Greet', '2025-03-08 15:00', '2025-03-08 17:00', 2),\n",
    "(14, 'STEM Workshop for Kids', 'Hands-on science activities for children.', 'Workshop', '2025-03-12 10:00', '2025-03-12 12:00', 12),\n",
    "(15, 'Philosophy Debate Night', 'Discussion on ethics and morality.', 'Debate', '2025-03-15 17:00', '2025-03-15 19:00', 9);"
   ]
  },
  {
   "cell_type": "code",
   "execution_count": 48,
   "id": "4010caa6-f8b7-46f3-96f0-25a4beafd53c",
   "metadata": {},
   "outputs": [
    {
     "data": {
      "text/html": [
       "<span style=\"None\">Running query in &#x27;sqlite:///library.db&#x27;</span>"
      ],
      "text/plain": [
       "Running query in 'sqlite:///library.db'"
      ]
     },
     "metadata": {},
     "output_type": "display_data"
    },
    {
     "data": {
      "text/html": [
       "<span style=\"color: green\">15 rows affected.</span>"
      ],
      "text/plain": [
       "15 rows affected."
      ]
     },
     "metadata": {},
     "output_type": "display_data"
    },
    {
     "data": {
      "text/html": [
       "<table>\n",
       "    <thead>\n",
       "        <tr>\n",
       "        </tr>\n",
       "    </thead>\n",
       "    <tbody>\n",
       "    </tbody>\n",
       "</table>"
      ],
      "text/plain": [
       "++\n",
       "||\n",
       "++\n",
       "++"
      ]
     },
     "execution_count": 48,
     "metadata": {},
     "output_type": "execute_result"
    }
   ],
   "source": [
    "%%sql\n",
    "INSERT INTO CheckoutRecord (checkoutId, memberId, itemId, instanceId, librarianId, checkoutDate, dueDate, returnDate) VALUES\n",
    "(1, 1, 1, 1, 1, '2025-01-02', '2025-01-16', '2025-01-15'), -- Returned 1 day early\n",
    "(2, 2, 2, 3, 2, '2025-01-05', '2025-01-19', '2025-01-22'), -- Returned 3 days late\n",
    "(3, 3, 4, 5, 1, '2025-01-08', '2025-01-22', NULL), -- Not yet returned\n",
    "(4, 4, 6, 7, 3, '2025-01-12', '2025-01-26', NULL), -- Not yet returned\n",
    "(5, 5, 8, 9, 2, '2025-01-15', '2025-01-29', '2025-01-29'), -- Returned on time\n",
    "(6, 6, 10, 11, 1, '2025-01-20', '2025-02-03', '2025-02-05'), -- Returned 2 days late\n",
    "(7, 7, 12, 13, 3, '2025-01-23', '2025-02-06', '2025-02-09'), -- Returned 3 days late\n",
    "(8, 8, 14, 15, 2, '2025-01-26', '2025-02-09', '2025-02-11'), -- Returned 2 days late\n",
    "(9, 9, 3, 4, 1, '2025-02-01', '2025-02-15', NULL), -- Not yet returned\n",
    "(10, 10, 5, 6, 3, '2025-02-05', '2025-02-19', '2025-02-19'), -- Returned on time\n",
    "(11, 11, 7, 8, 1, '2025-02-10', '2025-02-24', NULL), -- Not yet returned\n",
    "(12, 12, 9, 10, 2, '2025-02-14', '2025-02-28', NULL), -- Not yet returned\n",
    "(13, 13, 11, 12, 3, '2025-02-18', '2025-03-04', NULL), -- Not yet returned\n",
    "(14, 14, 13, 14, 1, '2025-02-22', '2025-03-08', NULL), -- Not yet returned\n",
    "(15, 15, 15, 15, 2, '2025-03-01', '2025-03-15', NULL); -- Not yet returned"
   ]
  },
  {
   "cell_type": "code",
   "execution_count": 50,
   "id": "5ca34117-c557-4b5a-9c14-d15b0e60d35b",
   "metadata": {},
   "outputs": [
    {
     "data": {
      "text/html": [
       "<span style=\"None\">Running query in &#x27;sqlite:///library.db&#x27;</span>"
      ],
      "text/plain": [
       "Running query in 'sqlite:///library.db'"
      ]
     },
     "metadata": {},
     "output_type": "display_data"
    },
    {
     "data": {
      "text/html": [
       "<span style=\"color: green\">1 rows affected.</span>"
      ],
      "text/plain": [
       "1 rows affected."
      ]
     },
     "metadata": {},
     "output_type": "display_data"
    },
    {
     "data": {
      "text/html": [
       "<span style=\"color: green\">1 rows affected.</span>"
      ],
      "text/plain": [
       "1 rows affected."
      ]
     },
     "metadata": {},
     "output_type": "display_data"
    },
    {
     "data": {
      "text/html": [
       "<span style=\"color: green\">1 rows affected.</span>"
      ],
      "text/plain": [
       "1 rows affected."
      ]
     },
     "metadata": {},
     "output_type": "display_data"
    },
    {
     "data": {
      "text/html": [
       "<span style=\"color: green\">1 rows affected.</span>"
      ],
      "text/plain": [
       "1 rows affected."
      ]
     },
     "metadata": {},
     "output_type": "display_data"
    },
    {
     "data": {
      "text/html": [
       "<span style=\"color: green\">1 rows affected.</span>"
      ],
      "text/plain": [
       "1 rows affected."
      ]
     },
     "metadata": {},
     "output_type": "display_data"
    },
    {
     "data": {
      "text/html": [
       "<span style=\"color: green\">1 rows affected.</span>"
      ],
      "text/plain": [
       "1 rows affected."
      ]
     },
     "metadata": {},
     "output_type": "display_data"
    },
    {
     "data": {
      "text/html": [
       "<table>\n",
       "    <thead>\n",
       "        <tr>\n",
       "        </tr>\n",
       "    </thead>\n",
       "    <tbody>\n",
       "    </tbody>\n",
       "</table>"
      ],
      "text/plain": [
       "++\n",
       "||\n",
       "++\n",
       "++"
      ]
     },
     "execution_count": 50,
     "metadata": {},
     "output_type": "execute_result"
    }
   ],
   "source": [
    "%%sql\n",
    "UPDATE ItemInstance\n",
    "SET currentCheckoutId = 3 WHERE instanceId = 5;\n",
    "UPDATE ItemInstance\n",
    "SET currentCheckoutId = 4 WHERE instanceId = 7;\n",
    "UPDATE ItemInstance\n",
    "SET currentCheckoutId = 5 WHERE instanceId = 9;\n",
    "UPDATE ItemInstance\n",
    "SET currentCheckoutId = 6 WHERE instanceId = 11;\n",
    "UPDATE ItemInstance\n",
    "SET currentCheckoutId = 7 WHERE instanceId = 13;\n",
    "UPDATE ItemInstance\n",
    "SET currentCheckoutId = 8 WHERE instanceId = 15;"
   ]
  },
  {
   "cell_type": "code",
   "execution_count": 52,
   "id": "d50056f6-33c6-4c25-a6a7-4dd4e058d50e",
   "metadata": {},
   "outputs": [
    {
     "data": {
      "text/html": [
       "<span style=\"None\">Running query in &#x27;sqlite:///library.db&#x27;</span>"
      ],
      "text/plain": [
       "Running query in 'sqlite:///library.db'"
      ]
     },
     "metadata": {},
     "output_type": "display_data"
    },
    {
     "data": {
      "text/html": [
       "<span style=\"color: green\">15 rows affected.</span>"
      ],
      "text/plain": [
       "15 rows affected."
      ]
     },
     "metadata": {},
     "output_type": "display_data"
    },
    {
     "data": {
      "text/html": [
       "<table>\n",
       "    <thead>\n",
       "        <tr>\n",
       "        </tr>\n",
       "    </thead>\n",
       "    <tbody>\n",
       "    </tbody>\n",
       "</table>"
      ],
      "text/plain": [
       "++\n",
       "||\n",
       "++\n",
       "++"
      ]
     },
     "execution_count": 52,
     "metadata": {},
     "output_type": "execute_result"
    }
   ],
   "source": [
    "%%sql\n",
    "INSERT INTO OverdueFine (fineId, checkoutId, fineTotal, amountPaid, dateIssued) VALUES\n",
    "(1, 2, 5.00, 5.00, '2025-01-23'), -- Brian paid his fine after returning on 2025-01-22\n",
    "(2, 3, 7.50, 5.00, '2025-01-23'), -- Catherine partially paid\n",
    "(3, 6, 10.00, 10.00, '2025-02-06'), -- Paid immediately after late return\n",
    "(4, 7, 4.00, 4.00, '2025-02-10'), -- Paid after returning on 2025-02-09\n",
    "(5, 8, 6.50, 6.50, '2025-02-12'), -- Paid after returning on 2025-02-11\n",
    "(6, 10, 2.00, 2.00, '2025-02-20'), -- Paid immediately after returning\n",
    "(7, 12, 5.00, 0.00, '2025-03-01'), -- Still unpaid\n",
    "(8, 13, 3.50, 3.50, '2025-03-05'), -- Paid immediately\n",
    "(9, 14, 7.00, 7.00, '2025-03-09'), -- Paid immediately\n",
    "(10, 15, 9.50, 9.50, '2025-03-16'), -- Paid immediately\n",
    "(11, 1, 2.50, 2.50, '2025-01-17'), -- Alice had a minor fine, paid immediately\n",
    "(12, 5, 1.50, 1.50, '2025-01-30'), -- Paid immediately\n",
    "(13, 9, 8.00, 0.00, '2025-02-16'), -- Still unpaid\n",
    "(14, 11, 4.00, 2.00, '2025-02-25'), -- Partially paid\n",
    "(15, 4, 5.00, 5.00, '2025-01-27'); -- David's fine was paid"
   ]
  },
  {
   "cell_type": "code",
   "execution_count": 54,
   "id": "a0a5c01b-25d2-4819-96cb-a5f4e7ffb8e6",
   "metadata": {},
   "outputs": [
    {
     "data": {
      "text/html": [
       "<span style=\"None\">Running query in &#x27;sqlite:///library.db&#x27;</span>"
      ],
      "text/plain": [
       "Running query in 'sqlite:///library.db'"
      ]
     },
     "metadata": {},
     "output_type": "display_data"
    },
    {
     "data": {
      "text/html": [
       "<span style=\"color: green\">15 rows affected.</span>"
      ],
      "text/plain": [
       "15 rows affected."
      ]
     },
     "metadata": {},
     "output_type": "display_data"
    },
    {
     "data": {
      "text/html": [
       "<table>\n",
       "    <thead>\n",
       "        <tr>\n",
       "        </tr>\n",
       "    </thead>\n",
       "    <tbody>\n",
       "    </tbody>\n",
       "</table>"
      ],
      "text/plain": [
       "++\n",
       "||\n",
       "++\n",
       "++"
      ]
     },
     "execution_count": 54,
     "metadata": {},
     "output_type": "execute_result"
    }
   ],
   "source": [
    "%%sql\n",
    "INSERT INTO EventRecommendation (eventId, audienceType) VALUES\n",
    "(1, 'Adults'),\n",
    "(2, 'General Public'),\n",
    "(3, 'Children'),\n",
    "(4, 'Students'),\n",
    "(5, 'Writers'),\n",
    "(6, 'History Buffs'),\n",
    "(7, 'Science Enthusiasts'),\n",
    "(8, 'Teens'),\n",
    "(9, 'Writers'),\n",
    "(10, 'Music Lovers'),\n",
    "(11, 'Students'),\n",
    "(12, 'Film Lovers'),\n",
    "(13, 'Book Enthusiasts'),\n",
    "(14, 'Children'),\n",
    "(15, 'Philosophy Lovers');"
   ]
  },
  {
   "cell_type": "code",
   "execution_count": 56,
   "id": "21f67e96-8c85-450d-bf20-d4e7f969efcd",
   "metadata": {},
   "outputs": [
    {
     "data": {
      "text/html": [
       "<span style=\"None\">Running query in &#x27;sqlite:///library.db&#x27;</span>"
      ],
      "text/plain": [
       "Running query in 'sqlite:///library.db'"
      ]
     },
     "metadata": {},
     "output_type": "display_data"
    },
    {
     "data": {
      "text/html": [
       "<span style=\"color: green\">15 rows affected.</span>"
      ],
      "text/plain": [
       "15 rows affected."
      ]
     },
     "metadata": {},
     "output_type": "display_data"
    },
    {
     "data": {
      "text/html": [
       "<table>\n",
       "    <thead>\n",
       "        <tr>\n",
       "        </tr>\n",
       "    </thead>\n",
       "    <tbody>\n",
       "    </tbody>\n",
       "</table>"
      ],
      "text/plain": [
       "++\n",
       "||\n",
       "++\n",
       "++"
      ]
     },
     "execution_count": 56,
     "metadata": {},
     "output_type": "execute_result"
    }
   ],
   "source": [
    "%%sql\n",
    "INSERT INTO MemberAudienceType (memberId, audienceType) VALUES\n",
    "(1, 'Adults'),\n",
    "(2, 'Adults'),\n",
    "(3, 'Teens'),\n",
    "(4, 'Teens'),\n",
    "(5, 'Adults'),\n",
    "(6, 'Seniors'),\n",
    "(7, 'Students'),\n",
    "(8, 'Researchers'),\n",
    "(9, 'Writers'),\n",
    "(10, 'Book Enthusiasts'),\n",
    "(11, 'Film Lovers'),\n",
    "(12, 'Science Enthusiasts'),\n",
    "(13, 'Tech Enthusiasts'),\n",
    "(14, 'History Buffs'),\n",
    "(15, 'Philosophy Lovers');"
   ]
  },
  {
   "cell_type": "code",
   "execution_count": 58,
   "id": "d47d0196-3e7c-4979-b888-3e7555194e51",
   "metadata": {},
   "outputs": [
    {
     "data": {
      "text/html": [
       "<span style=\"None\">Running query in &#x27;sqlite:///library.db&#x27;</span>"
      ],
      "text/plain": [
       "Running query in 'sqlite:///library.db'"
      ]
     },
     "metadata": {},
     "output_type": "display_data"
    },
    {
     "data": {
      "text/html": [
       "<span style=\"color: green\">29 rows affected.</span>"
      ],
      "text/plain": [
       "29 rows affected."
      ]
     },
     "metadata": {},
     "output_type": "display_data"
    },
    {
     "data": {
      "text/html": [
       "<table>\n",
       "    <thead>\n",
       "        <tr>\n",
       "        </tr>\n",
       "    </thead>\n",
       "    <tbody>\n",
       "    </tbody>\n",
       "</table>"
      ],
      "text/plain": [
       "++\n",
       "||\n",
       "++\n",
       "++"
      ]
     },
     "execution_count": 58,
     "metadata": {},
     "output_type": "execute_result"
    }
   ],
   "source": [
    "%%sql\n",
    "INSERT INTO EventAttendance (eventId, memberId) VALUES\n",
    "(1, 1),  -- Alice attending Book Club\n",
    "(1, 2),  -- Brian attending Book Club\n",
    "(2, 3),  -- Catherine attending Movie Night\n",
    "(2, 4),  -- David attending Movie Night\n",
    "(3, 5),  -- Eva attending Story Hour\n",
    "(3, 6),  -- Frank attending Story Hour\n",
    "(4, 7),  -- Grace attending AI Talk\n",
    "(4, 8),  -- Henry attending AI Talk\n",
    "(5, 9),  -- Isabelle attending Poetry Night\n",
    "(5, 10), -- Jack attending Poetry Night\n",
    "(6, 11), -- Karen attending WWII Discussion\n",
    "(6, 12), -- Luke attending WWII Discussion\n",
    "(7, 13), -- Mia attending Space Talk\n",
    "(7, 14), -- Noah attending Space Talk\n",
    "(8, 15), -- Olivia attending Board Games Night\n",
    "(9, 1),  -- Alice attending Writing Workshop\n",
    "(9, 3),  -- Catherine attending Writing Workshop\n",
    "(10, 5), -- Eva attending Jazz Night\n",
    "(10, 6), -- Frank attending Jazz Night\n",
    "(11, 7), -- Grace attending STEM Panel\n",
    "(11, 8), -- Henry attending STEM Panel\n",
    "(12, 9), -- Isabelle attending Outdoor Film Screening\n",
    "(12, 10), -- Jack attending Outdoor Film Screening\n",
    "(13, 11), -- Karen attending Author Meet & Greet\n",
    "(13, 12), -- Luke attending Author Meet & Greet\n",
    "(14, 13), -- Mia attending STEM Workshop for Kids\n",
    "(14, 14), -- Noah attending STEM Workshop for Kids\n",
    "(15, 15), -- Olivia attending Philosophy Debate Night\n",
    "(15, 2);  -- Brian attending Philosophy Debate Night"
   ]
  }
 ],
 "metadata": {
  "kernelspec": {
   "display_name": "Python [conda env:base] *",
   "language": "python",
   "name": "conda-base-py"
  },
  "language_info": {
   "codemirror_mode": {
    "name": "ipython",
    "version": 3
   },
   "file_extension": ".py",
   "mimetype": "text/x-python",
   "name": "python",
   "nbconvert_exporter": "python",
   "pygments_lexer": "ipython3",
   "version": "3.12.3"
  }
 },
 "nbformat": 4,
 "nbformat_minor": 5
}
